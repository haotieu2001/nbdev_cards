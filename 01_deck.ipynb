{
 "cells": [
  {
   "cell_type": "code",
   "execution_count": null,
   "id": "c4725316-3be9-40be-b676-aa06db935fe2",
   "metadata": {},
   "outputs": [],
   "source": [
    "#| default_exp deck"
   ]
  },
  {
   "cell_type": "markdown",
   "id": "9250ade9-c9f0-40d0-8fa7-cef84354a541",
   "metadata": {},
   "source": [
    "# deck \n",
    "> A deck of playing cards"
   ]
  },
  {
   "cell_type": "code",
   "execution_count": null,
   "id": "0beb031f-4575-4f8b-aabe-c77c73c5a6c6",
   "metadata": {},
   "outputs": [],
   "source": [
    "#| hide \n",
    "from nbdev.showdoc import *\n",
    "from nbdev_cards.card import *\n",
    "from fastcore.test import *\n",
    "from fastcore.utils import *"
   ]
  },
  {
   "cell_type": "code",
   "execution_count": null,
   "id": "3d4dd493-eb8d-4519-a040-b6104d791778",
   "metadata": {},
   "outputs": [],
   "source": [
    "#| export \n",
    "class Deck:\n",
    "    \"A deck of 52 cards, not including jokers\"\n",
    "    def __init__(self): self.cards = [Card(s, r) for s in range(4) for r in range(1,14)]\n",
    "    def __len__(self): return len(self.cards)\n",
    "    def __str__(self): return '; '.join(map(str, self.cards))\n",
    "    def __contains__(self, card): return card in self.cards\n",
    "    __repr__=__str__"
   ]
  },
  {
   "cell_type": "code",
   "execution_count": null,
   "id": "538d5fb8-56dc-4b6f-92e2-af8d6f497900",
   "metadata": {},
   "outputs": [
    {
     "data": {
      "text/plain": [
       "A♠; 2♠; 3♠; 4♠; 5♠; 6♠; 7♠; 8♠; 9♠; 10♠; J♠; Q♠; K♠; A♥; 2♥; 3♥; 4♥; 5♥; 6♥; 7♥; 8♥; 9♥; 10♥; J♥; Q♥; K♥; A♦; 2♦; 3♦; 4♦; 5♦; 6♦; 7♦; 8♦; 9♦; 10♦; J♦; Q♦; K♦; A♣; 2♣; 3♣; 4♣; 5♣; 6♣; 7♣; 8♣; 9♣; 10♣; J♣; Q♣; K♣"
      ]
     },
     "execution_count": null,
     "metadata": {},
     "output_type": "execute_result"
    }
   ],
   "source": [
    "deck = Deck()\n",
    "deck"
   ]
  },
  {
   "cell_type": "markdown",
   "id": "907cc65d-6fe6-4668-aee0-c90963267582",
   "metadata": {},
   "source": [
    "This should be 52 cards"
   ]
  },
  {
   "cell_type": "code",
   "execution_count": null,
   "id": "eb5bd9a4-89e5-468d-8e86-aa2ebe1c4cf7",
   "metadata": {},
   "outputs": [],
   "source": [
    "test_eq(len(deck),52)"
   ]
  },
  {
   "cell_type": "code",
   "execution_count": null,
   "id": "d5bca6af-ddf5-4a5f-9468-39d623eb8a45",
   "metadata": {},
   "outputs": [],
   "source": [
    "# #| export \n",
    "# @patch\n",
    "# def pop(self:Deck,\n",
    "#        idx:int=-1): # The index of the card to remove, defaulting to the last one \n",
    "#     \"Remove one card from the deck\"\n",
    "#     return self.cards.pop(idx)"
   ]
  },
  {
   "cell_type": "code",
   "execution_count": null,
   "id": "ee45a759-25cf-4c26-948d-d8fe307c768d",
   "metadata": {},
   "outputs": [],
   "source": [
    "# deck = Deck()\n",
    "# test_eq(deck.pop(), Card(3,13))"
   ]
  },
  {
   "cell_type": "code",
   "execution_count": null,
   "id": "4ead68e0-6385-42bd-97c2-ebc6839fae51",
   "metadata": {},
   "outputs": [],
   "source": []
  }
 ],
 "metadata": {
  "kernelspec": {
   "display_name": "python3",
   "language": "python",
   "name": "python3"
  }
 },
 "nbformat": 4,
 "nbformat_minor": 5
}
